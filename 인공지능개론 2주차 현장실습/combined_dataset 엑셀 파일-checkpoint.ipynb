{
 "cells": [
  {
   "cell_type": "code",
   "execution_count": 7,
   "id": "8456ba20-bb25-4f40-af06-d93f92632efe",
   "metadata": {},
   "outputs": [
    {
     "name": "stdout",
     "output_type": "stream",
     "text": [
      "Index(['Num.', 'subject_ID', 'Sex(M/F)', 'Age(year)', 'Height(cm)',\n",
      "       'Weight(kg)', 'Systolic Blood Pressure(mmHg)',\n",
      "       'Diastolic Blood Pressure(mmHg)', 'Heart Rate(b/m)', 'BMI(kg/m^2)',\n",
      "       ...\n",
      "       '2091', '2092', '2093', '2094', '2095', '2096', '2097', '2098', '2099',\n",
      "       '2100'],\n",
      "      dtype='object', length=2114)\n",
      "Accuracy: 3.03%\n"
     ]
    }
   ],
   "source": [
    "import pandas as pd\n",
    "from sklearn.model_selection import train_test_split\n",
    "from sklearn.preprocessing import StandardScaler\n",
    "from sklearn.neighbors import KNeighborsClassifier\n",
    "from sklearn.metrics import accuracy_score\n",
    "\n",
    "file_path = 'C:\\\\Users\\\\User\\\\Desktop\\\\2025년 1학기\\\\인공지능개론\\\\인공지능개론 2주차\\\\인공지능개론 2주차 현장실습\\\\combined_dataset-1.xlsx'\n",
    "combined_df = pd.read_excel(file_path)\n",
    "\n",
    "print(combined_df.columns)\n",
    "\n",
    "def prepare_data(df, target_column):\n",
    "    X = df.drop(columns=[target_column])\n",
    "    y = df[target_column]\n",
    "    X = X.select_dtypes(include=[float, int])  # 수치형 데이터만 선택\n",
    "    return train_test_split(X, y, test_size=0.2, random_state=42)\n",
    "\n",
    "def standardize_data(X_train, X_test):\n",
    "    scaler = StandardScaler()\n",
    "    X_train_scaled = scaler.fit_transform(X_train)\n",
    "    X_test_scaled = scaler.transform(X_test)\n",
    "    return X_train_scaled, X_test_scaled\n",
    "\n",
    "def apply_knn(X_train, y_train, X_test, n_neighbors=5):\n",
    "    knn = KNeighborsClassifier(n_neighbors=n_neighbors)\n",
    "    knn.fit(X_train, y_train)\n",
    "    return knn.predict(X_test)\n",
    "\n",
    "def evaluate_model(y_test, y_pred):\n",
    "    accuracy = accuracy_score(y_test, y_pred)\n",
    "    print(f'Accuracy: {accuracy * 100:.2f}%')\n",
    "\n",
    "target_column = 'Heart Rate(b/m)'\n",
    "X_train, X_test, y_train, y_test = prepare_data(combined_df, target_column)\n",
    "X_train_scaled, X_test_scaled = standardize_data(X_train, X_test)\n",
    "y_pred = apply_knn(X_train_scaled, y_train, X_test_scaled)\n",
    "evaluate_model(y_test, y_pred)"
   ]
  },
  {
   "cell_type": "code",
   "execution_count": null,
   "id": "f42bc18b-dca5-4b22-bd00-0330ad98316e",
   "metadata": {},
   "outputs": [],
   "source": []
  }
 ],
 "metadata": {
  "kernelspec": {
   "display_name": "Python 3 (ipykernel)",
   "language": "python",
   "name": "python3"
  },
  "language_info": {
   "codemirror_mode": {
    "name": "ipython",
    "version": 3
   },
   "file_extension": ".py",
   "mimetype": "text/x-python",
   "name": "python",
   "nbconvert_exporter": "python",
   "pygments_lexer": "ipython3",
   "version": "3.12.7"
  }
 },
 "nbformat": 4,
 "nbformat_minor": 5
}
