{
 "cells": [
  {
   "cell_type": "code",
   "execution_count": 1,
   "id": "3b4a81c7-99a4-462d-9282-8cd28262774e",
   "metadata": {},
   "outputs": [
    {
     "name": "stdout",
     "output_type": "stream",
     "text": [
      "   battery_power  blue  clock_speed  dual_sim  fc  four_g  int_memory  m_dep  \\\n",
      "0            842     0          2.2         0   1       0           7    0.6   \n",
      "1           1021     1          0.5         1   0       1          53    0.7   \n",
      "2            563     1          0.5         1   2       1          41    0.9   \n",
      "3            615     1          2.5         0   0       0          10    0.8   \n",
      "4           1821     1          1.2         0  13       1          44    0.6   \n",
      "\n",
      "   mobile_wt  n_cores  ...  px_height  px_width   ram  sc_h  sc_w  talk_time  \\\n",
      "0        188        2  ...         20       756  2549     9     7         19   \n",
      "1        136        3  ...        905      1988  2631    17     3          7   \n",
      "2        145        5  ...       1263      1716  2603    11     2          9   \n",
      "3        131        6  ...       1216      1786  2769    16     8         11   \n",
      "4        141        2  ...       1208      1212  1411     8     2         15   \n",
      "\n",
      "   three_g  touch_screen  wifi  price_range  \n",
      "0        0             0     1            1  \n",
      "1        1             1     0            2  \n",
      "2        1             1     0            2  \n",
      "3        1             0     0            2  \n",
      "4        1             1     0            1  \n",
      "\n",
      "[5 rows x 21 columns]\n",
      "Accuracy: 53.00%\n"
     ]
    }
   ],
   "source": [
    "import pandas as pd\n",
    "from sklearn.model_selection import train_test_split\n",
    "from sklearn.preprocessing import StandardScaler\n",
    "from sklearn.neighbors import KNeighborsClassifier\n",
    "from sklearn.metrics import accuracy_score\n",
    "\n",
    "mobile_df = pd.read_csv('C:\\\\Users\\\\User\\\\Desktop\\\\2025년 1학기\\\\인공지능개론\\\\인공지능개론 2주차\\\\인공지능개론 2주차 현장실습\\\\mobile.csv')\n",
    "\n",
    "print(mobile_df.head())\n",
    "\n",
    "def prepare_data(df, target_column):\n",
    "    X = df.drop(columns=[target_column])\n",
    "    y = df[target_column]\n",
    "    return train_test_split(X, y, test_size=0.2, random_state=42)\n",
    "\n",
    "def standardize_data(X_train, X_test):\n",
    "    scaler = StandardScaler()\n",
    "    X_train_scaled = scaler.fit_transform(X_train)\n",
    "    X_test_scaled = scaler.transform(X_test)\n",
    "    return X_train_scaled, X_test_scaled\n",
    "\n",
    "def apply_knn(X_train, y_train, X_test, n_neighbors=5):\n",
    "    knn = KNeighborsClassifier(n_neighbors=n_neighbors)\n",
    "    knn.fit(X_train, y_train)\n",
    "    return knn.predict(X_test)\n",
    "\n",
    "def evaluate_model(y_test, y_pred):\n",
    "    accuracy = accuracy_score(y_test, y_pred)\n",
    "    print(f'Accuracy: {accuracy * 100:.2f}%')\n",
    "\n",
    "target_column = 'price_range'\n",
    "X_train, X_test, y_train, y_test = prepare_data(mobile_df, target_column)\n",
    "X_train_scaled, X_test_scaled = standardize_data(X_train, X_test)\n",
    "y_pred = apply_knn(X_train_scaled, y_train, X_test_scaled)\n",
    "evaluate_model(y_test, y_pred)"
   ]
  },
  {
   "cell_type": "code",
   "execution_count": null,
   "id": "b4e30b5d-d66c-47ac-883c-0d73821a35e0",
   "metadata": {},
   "outputs": [],
   "source": []
  }
 ],
 "metadata": {
  "kernelspec": {
   "display_name": "Python 3 (ipykernel)",
   "language": "python",
   "name": "python3"
  },
  "language_info": {
   "codemirror_mode": {
    "name": "ipython",
    "version": 3
   },
   "file_extension": ".py",
   "mimetype": "text/x-python",
   "name": "python",
   "nbconvert_exporter": "python",
   "pygments_lexer": "ipython3",
   "version": "3.12.7"
  }
 },
 "nbformat": 4,
 "nbformat_minor": 5
}
